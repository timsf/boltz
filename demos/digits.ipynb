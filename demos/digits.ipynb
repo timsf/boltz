{
 "cells": [
  {
   "cell_type": "code",
   "execution_count": null,
   "metadata": {},
   "outputs": [],
   "source": [
    "import numpy as np\n",
    "import pandas as pd\n",
    "import matplotlib.pyplot as plt\n",
    "\n",
    "from sklearn.datasets import load_digits\n",
    "from boltz import sml"
   ]
  },
  {
   "cell_type": "code",
   "execution_count": null,
   "metadata": {},
   "outputs": [],
   "source": [
    "# import observations\n",
    "\n",
    "x, y = load_digits(return_X_y=True)\n",
    "v = np.array([x_.flatten() for x_ in x])"
   ]
  },
  {
   "cell_type": "code",
   "execution_count": null,
   "metadata": {},
   "outputs": [],
   "source": [
    "# set configuration\n",
    "\n",
    "seed = 0    # randoms state\n",
    "widths = (v.shape[1], v.shape[1])    # hidden variable layer widths\n",
    "n_subsamples = int(np.sqrt(v.shape[0]))    # size of minibatches for gradient estimation\n",
    "n_walkers = v.shape[1]    # number of interacting MCMC chains\n",
    "n_gibbs = n_walkers    # number of Gibbs sweeps per gradient descent step\n",
    "step = 1e-2    # step size of gradient descent\n",
    "mom = 1e-1    # momentum of gradient descent\n",
    "pen = 0    # L2 penalty"
   ]
  },
  {
   "cell_type": "code",
   "execution_count": null,
   "metadata": {},
   "outputs": [],
   "source": [
    "# instantiate optimizer\n",
    "\n",
    "rng = np.random.default_rng(seed)\n",
    "opt = sml.optimizer(v, widths, n_gibbs, n_walkers, n_subsamples, step, mom, pen, rng)"
   ]
  },
  {
   "cell_type": "code",
   "execution_count": null,
   "metadata": {},
   "outputs": [],
   "source": [
    "# run stochastic gradient descent for a number of iterations\n",
    "\n",
    "n_iter = 1000\n",
    "for i in range(n_iter):\n",
    "    b, w = next(opt)"
   ]
  }
 ],
 "metadata": {
  "kernelspec": {
   "display_name": "walkers-NYd4Uu6f-py3.11",
   "language": "python",
   "name": "python3"
  },
  "language_info": {
   "codemirror_mode": {
    "name": "ipython",
    "version": 3
   },
   "file_extension": ".py",
   "mimetype": "text/x-python",
   "name": "python",
   "nbconvert_exporter": "python",
   "pygments_lexer": "ipython3",
   "version": "3.11.8"
  }
 },
 "nbformat": 4,
 "nbformat_minor": 2
}
